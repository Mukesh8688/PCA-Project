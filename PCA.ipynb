{
 "cells": [
  {
   "cell_type": "code",
   "execution_count": null,
   "metadata": {},
   "outputs": [],
   "source": [
    "# This is implimentation code for Principal Component Analysis\n",
    "# Data is taken from kaggle\n",
    "# final Data is cleaned, merged and grouped of all data sets which is taken from kaggle  "
   ]
  },
  {
   "cell_type": "code",
   "execution_count": 1,
   "metadata": {},
   "outputs": [],
   "source": [
    "import numpy as np\n",
    "from sklearn.decomposition import PCA\n",
    "import pandas as pd\n",
    "import matplotlib.pyplot as plt\n",
    "from sklearn.preprocessing import scale\n",
    "%matplotlib inline"
   ]
  },
  {
   "cell_type": "code",
   "execution_count": 2,
   "metadata": {},
   "outputs": [],
   "source": [
    "df = pd.read_csv(\"home_credit_final.csv\")"
   ]
  },
  {
   "cell_type": "code",
   "execution_count": 3,
   "metadata": {},
   "outputs": [
    {
     "data": {
      "text/html": [
       "<div>\n",
       "<style scoped>\n",
       "    .dataframe tbody tr th:only-of-type {\n",
       "        vertical-align: middle;\n",
       "    }\n",
       "\n",
       "    .dataframe tbody tr th {\n",
       "        vertical-align: top;\n",
       "    }\n",
       "\n",
       "    .dataframe thead th {\n",
       "        text-align: right;\n",
       "    }\n",
       "</style>\n",
       "<table border=\"1\" class=\"dataframe\">\n",
       "  <thead>\n",
       "    <tr style=\"text-align: right;\">\n",
       "      <th></th>\n",
       "      <th>SK_ID_CURR</th>\n",
       "      <th>train_CNT_CHILDREN_count</th>\n",
       "      <th>train_CNT_CHILDREN_mean</th>\n",
       "      <th>train_CNT_CHILDREN_max</th>\n",
       "      <th>train_CNT_CHILDREN_min</th>\n",
       "      <th>train_CNT_CHILDREN_sum</th>\n",
       "      <th>train_AMT_INCOME_TOTAL_count</th>\n",
       "      <th>train_AMT_INCOME_TOTAL_mean</th>\n",
       "      <th>train_AMT_INCOME_TOTAL_max</th>\n",
       "      <th>train_AMT_INCOME_TOTAL_min</th>\n",
       "      <th>...</th>\n",
       "      <th>payment_AMT_INSTALMENT_count</th>\n",
       "      <th>payment_AMT_INSTALMENT_mean</th>\n",
       "      <th>payment_AMT_INSTALMENT_max</th>\n",
       "      <th>payment_AMT_INSTALMENT_min</th>\n",
       "      <th>payment_AMT_INSTALMENT_sum</th>\n",
       "      <th>payment_AMT_PAYMENT_count</th>\n",
       "      <th>payment_AMT_PAYMENT_mean</th>\n",
       "      <th>payment_AMT_PAYMENT_max</th>\n",
       "      <th>payment_AMT_PAYMENT_min</th>\n",
       "      <th>payment_AMT_PAYMENT_sum</th>\n",
       "    </tr>\n",
       "  </thead>\n",
       "  <tbody>\n",
       "    <tr>\n",
       "      <td>0</td>\n",
       "      <td>100002</td>\n",
       "      <td>1</td>\n",
       "      <td>0</td>\n",
       "      <td>0</td>\n",
       "      <td>0</td>\n",
       "      <td>0</td>\n",
       "      <td>1</td>\n",
       "      <td>202500.0</td>\n",
       "      <td>202500.0</td>\n",
       "      <td>202500.0</td>\n",
       "      <td>...</td>\n",
       "      <td>19.0</td>\n",
       "      <td>11559.247105</td>\n",
       "      <td>53093.745</td>\n",
       "      <td>9251.775</td>\n",
       "      <td>219625.695</td>\n",
       "      <td>19.0</td>\n",
       "      <td>11559.247105</td>\n",
       "      <td>53093.745</td>\n",
       "      <td>9251.775</td>\n",
       "      <td>219625.695</td>\n",
       "    </tr>\n",
       "    <tr>\n",
       "      <td>1</td>\n",
       "      <td>100003</td>\n",
       "      <td>1</td>\n",
       "      <td>0</td>\n",
       "      <td>0</td>\n",
       "      <td>0</td>\n",
       "      <td>0</td>\n",
       "      <td>1</td>\n",
       "      <td>270000.0</td>\n",
       "      <td>270000.0</td>\n",
       "      <td>270000.0</td>\n",
       "      <td>...</td>\n",
       "      <td>25.0</td>\n",
       "      <td>64754.586000</td>\n",
       "      <td>560835.360</td>\n",
       "      <td>6662.970</td>\n",
       "      <td>1618864.650</td>\n",
       "      <td>25.0</td>\n",
       "      <td>64754.586000</td>\n",
       "      <td>560835.360</td>\n",
       "      <td>6662.970</td>\n",
       "      <td>1618864.650</td>\n",
       "    </tr>\n",
       "    <tr>\n",
       "      <td>2</td>\n",
       "      <td>100004</td>\n",
       "      <td>1</td>\n",
       "      <td>0</td>\n",
       "      <td>0</td>\n",
       "      <td>0</td>\n",
       "      <td>0</td>\n",
       "      <td>1</td>\n",
       "      <td>67500.0</td>\n",
       "      <td>67500.0</td>\n",
       "      <td>67500.0</td>\n",
       "      <td>...</td>\n",
       "      <td>3.0</td>\n",
       "      <td>7096.155000</td>\n",
       "      <td>10573.965</td>\n",
       "      <td>5357.250</td>\n",
       "      <td>21288.465</td>\n",
       "      <td>3.0</td>\n",
       "      <td>7096.155000</td>\n",
       "      <td>10573.965</td>\n",
       "      <td>5357.250</td>\n",
       "      <td>21288.465</td>\n",
       "    </tr>\n",
       "    <tr>\n",
       "      <td>3</td>\n",
       "      <td>100006</td>\n",
       "      <td>1</td>\n",
       "      <td>0</td>\n",
       "      <td>0</td>\n",
       "      <td>0</td>\n",
       "      <td>0</td>\n",
       "      <td>1</td>\n",
       "      <td>135000.0</td>\n",
       "      <td>135000.0</td>\n",
       "      <td>135000.0</td>\n",
       "      <td>...</td>\n",
       "      <td>16.0</td>\n",
       "      <td>62947.088438</td>\n",
       "      <td>691786.890</td>\n",
       "      <td>2482.920</td>\n",
       "      <td>1007153.415</td>\n",
       "      <td>16.0</td>\n",
       "      <td>62947.088438</td>\n",
       "      <td>691786.890</td>\n",
       "      <td>2482.920</td>\n",
       "      <td>1007153.415</td>\n",
       "    </tr>\n",
       "    <tr>\n",
       "      <td>4</td>\n",
       "      <td>100007</td>\n",
       "      <td>1</td>\n",
       "      <td>0</td>\n",
       "      <td>0</td>\n",
       "      <td>0</td>\n",
       "      <td>0</td>\n",
       "      <td>1</td>\n",
       "      <td>121500.0</td>\n",
       "      <td>121500.0</td>\n",
       "      <td>121500.0</td>\n",
       "      <td>...</td>\n",
       "      <td>66.0</td>\n",
       "      <td>12666.444545</td>\n",
       "      <td>22678.785</td>\n",
       "      <td>1821.780</td>\n",
       "      <td>835985.340</td>\n",
       "      <td>66.0</td>\n",
       "      <td>12214.060227</td>\n",
       "      <td>22678.785</td>\n",
       "      <td>0.180</td>\n",
       "      <td>806127.975</td>\n",
       "    </tr>\n",
       "  </tbody>\n",
       "</table>\n",
       "<p>5 rows × 1256 columns</p>\n",
       "</div>"
      ],
      "text/plain": [
       "   SK_ID_CURR  train_CNT_CHILDREN_count  train_CNT_CHILDREN_mean  \\\n",
       "0      100002                         1                        0   \n",
       "1      100003                         1                        0   \n",
       "2      100004                         1                        0   \n",
       "3      100006                         1                        0   \n",
       "4      100007                         1                        0   \n",
       "\n",
       "   train_CNT_CHILDREN_max  train_CNT_CHILDREN_min  train_CNT_CHILDREN_sum  \\\n",
       "0                       0                       0                       0   \n",
       "1                       0                       0                       0   \n",
       "2                       0                       0                       0   \n",
       "3                       0                       0                       0   \n",
       "4                       0                       0                       0   \n",
       "\n",
       "   train_AMT_INCOME_TOTAL_count  train_AMT_INCOME_TOTAL_mean  \\\n",
       "0                             1                     202500.0   \n",
       "1                             1                     270000.0   \n",
       "2                             1                      67500.0   \n",
       "3                             1                     135000.0   \n",
       "4                             1                     121500.0   \n",
       "\n",
       "   train_AMT_INCOME_TOTAL_max  train_AMT_INCOME_TOTAL_min  ...  \\\n",
       "0                    202500.0                    202500.0  ...   \n",
       "1                    270000.0                    270000.0  ...   \n",
       "2                     67500.0                     67500.0  ...   \n",
       "3                    135000.0                    135000.0  ...   \n",
       "4                    121500.0                    121500.0  ...   \n",
       "\n",
       "   payment_AMT_INSTALMENT_count  payment_AMT_INSTALMENT_mean  \\\n",
       "0                          19.0                 11559.247105   \n",
       "1                          25.0                 64754.586000   \n",
       "2                           3.0                  7096.155000   \n",
       "3                          16.0                 62947.088438   \n",
       "4                          66.0                 12666.444545   \n",
       "\n",
       "   payment_AMT_INSTALMENT_max  payment_AMT_INSTALMENT_min  \\\n",
       "0                   53093.745                    9251.775   \n",
       "1                  560835.360                    6662.970   \n",
       "2                   10573.965                    5357.250   \n",
       "3                  691786.890                    2482.920   \n",
       "4                   22678.785                    1821.780   \n",
       "\n",
       "   payment_AMT_INSTALMENT_sum  payment_AMT_PAYMENT_count  \\\n",
       "0                  219625.695                       19.0   \n",
       "1                 1618864.650                       25.0   \n",
       "2                   21288.465                        3.0   \n",
       "3                 1007153.415                       16.0   \n",
       "4                  835985.340                       66.0   \n",
       "\n",
       "   payment_AMT_PAYMENT_mean  payment_AMT_PAYMENT_max  payment_AMT_PAYMENT_min  \\\n",
       "0              11559.247105                53093.745                 9251.775   \n",
       "1              64754.586000               560835.360                 6662.970   \n",
       "2               7096.155000                10573.965                 5357.250   \n",
       "3              62947.088438               691786.890                 2482.920   \n",
       "4              12214.060227                22678.785                    0.180   \n",
       "\n",
       "   payment_AMT_PAYMENT_sum  \n",
       "0               219625.695  \n",
       "1              1618864.650  \n",
       "2                21288.465  \n",
       "3              1007153.415  \n",
       "4               806127.975  \n",
       "\n",
       "[5 rows x 1256 columns]"
      ]
     },
     "execution_count": 3,
     "metadata": {},
     "output_type": "execute_result"
    }
   ],
   "source": [
    "df.head()"
   ]
  },
  {
   "cell_type": "code",
   "execution_count": 5,
   "metadata": {},
   "outputs": [
    {
     "data": {
      "text/plain": [
       "(307511, 1256)"
      ]
     },
     "execution_count": 5,
     "metadata": {},
     "output_type": "execute_result"
    }
   ],
   "source": [
    "df.shape"
   ]
  },
  {
   "cell_type": "code",
   "execution_count": 17,
   "metadata": {},
   "outputs": [],
   "source": [
    "# check null values\n",
    "\n",
    "df1 = ~ df.isnull().sum()"
   ]
  },
  {
   "cell_type": "code",
   "execution_count": 19,
   "metadata": {},
   "outputs": [
    {
     "data": {
      "text/plain": [
       "(1256,)"
      ]
     },
     "execution_count": 19,
     "metadata": {},
     "output_type": "execute_result"
    }
   ],
   "source": [
    "df1.shape"
   ]
  },
  {
   "cell_type": "code",
   "execution_count": 22,
   "metadata": {},
   "outputs": [],
   "source": [
    "# drop null values\n",
    "\n",
    "df.dropna(inplace= True)"
   ]
  },
  {
   "cell_type": "code",
   "execution_count": 23,
   "metadata": {},
   "outputs": [
    {
     "data": {
      "text/plain": [
       "SK_ID_CURR                   0\n",
       "train_CNT_CHILDREN_count     0\n",
       "train_CNT_CHILDREN_mean      0\n",
       "train_CNT_CHILDREN_max       0\n",
       "train_CNT_CHILDREN_min       0\n",
       "                            ..\n",
       "payment_AMT_PAYMENT_count    0\n",
       "payment_AMT_PAYMENT_mean     0\n",
       "payment_AMT_PAYMENT_max      0\n",
       "payment_AMT_PAYMENT_min      0\n",
       "payment_AMT_PAYMENT_sum      0\n",
       "Length: 1256, dtype: int64"
      ]
     },
     "execution_count": 23,
     "metadata": {},
     "output_type": "execute_result"
    }
   ],
   "source": [
    "df.isnull().sum()"
   ]
  },
  {
   "cell_type": "code",
   "execution_count": 24,
   "metadata": {},
   "outputs": [
    {
     "data": {
      "text/plain": [
       "(28931, 1256)"
      ]
     },
     "execution_count": 24,
     "metadata": {},
     "output_type": "execute_result"
    }
   ],
   "source": [
    "df.shape"
   ]
  },
  {
   "cell_type": "code",
   "execution_count": 25,
   "metadata": {},
   "outputs": [],
   "source": [
    "# convert into numpy values\n",
    "X = df.values"
   ]
  },
  {
   "cell_type": "code",
   "execution_count": 26,
   "metadata": {},
   "outputs": [
    {
     "data": {
      "text/plain": [
       "array([[1.00043000e+05, 1.00000000e+00, 2.00000000e+00, ...,\n",
       "        3.16290690e+05, 1.12500000e+00, 1.25112807e+06],\n",
       "       [1.00048000e+05, 1.00000000e+00, 0.00000000e+00, ...,\n",
       "        5.48005995e+05, 7.74450000e+01, 1.89873725e+06],\n",
       "       [1.00050000e+05, 1.00000000e+00, 0.00000000e+00, ...,\n",
       "        6.07250700e+04, 6.91960500e+03, 1.64519145e+05],\n",
       "       ...,\n",
       "       [4.56242000e+05, 1.00000000e+00, 0.00000000e+00, ...,\n",
       "        2.70000000e+04, 5.40000000e+01, 5.93616195e+05],\n",
       "       [4.56244000e+05, 1.00000000e+00, 0.00000000e+00, ...,\n",
       "        8.89827255e+05, 3.37500000e+00, 5.38234758e+06],\n",
       "       [4.56247000e+05, 1.00000000e+00, 0.00000000e+00, ...,\n",
       "        9.09900000e+04, 4.38300000e+01, 7.61822325e+05]])"
      ]
     },
     "execution_count": 26,
     "metadata": {},
     "output_type": "execute_result"
    }
   ],
   "source": [
    "X"
   ]
  },
  {
   "cell_type": "code",
   "execution_count": 27,
   "metadata": {},
   "outputs": [],
   "source": [
    "# Scaling values\n",
    "\n",
    "X = scale(X)"
   ]
  },
  {
   "cell_type": "code",
   "execution_count": 28,
   "metadata": {},
   "outputs": [],
   "source": [
    "# fit PCA without principal component\n",
    "\n",
    "pca = PCA()"
   ]
  },
  {
   "cell_type": "code",
   "execution_count": 29,
   "metadata": {},
   "outputs": [
    {
     "data": {
      "text/plain": [
       "PCA(copy=True, iterated_power='auto', n_components=None, random_state=None,\n",
       "    svd_solver='auto', tol=0.0, whiten=False)"
      ]
     },
     "execution_count": 29,
     "metadata": {},
     "output_type": "execute_result"
    }
   ],
   "source": [
    "# fit data \n",
    "\n",
    "pca.fit(X)"
   ]
  },
  {
   "cell_type": "code",
   "execution_count": 30,
   "metadata": {},
   "outputs": [],
   "source": [
    "# \n",
    "\n",
    "var = pca.explained_variance_ratio_"
   ]
  },
  {
   "cell_type": "code",
   "execution_count": 31,
   "metadata": {},
   "outputs": [],
   "source": [
    "# cumculative sum \n",
    "var1 = np.cumsum(np.round(pca.explained_variance_ratio_,decimals = 4) * 100)"
   ]
  },
  {
   "cell_type": "code",
   "execution_count": 32,
   "metadata": {},
   "outputs": [
    {
     "name": "stdout",
     "output_type": "stream",
     "text": [
      "[ 5.53  9.32 12.76 ... 99.82 99.82 99.82]\n"
     ]
    }
   ],
   "source": [
    "print(var1)"
   ]
  },
  {
   "cell_type": "code",
   "execution_count": 42,
   "metadata": {},
   "outputs": [
    {
     "data": {
      "text/plain": [
       "Text(0, 0.5, 'Cumulative Proportion variance explained')"
      ]
     },
     "execution_count": 42,
     "metadata": {},
     "output_type": "execute_result"
    },
    {
     "data": {
      "image/png": "[encoded data removed]",
      "text/plain": [
       "<Figure size 432x288 with 1 Axes>"
      ]
     },
     "metadata": {
      "needs_background": "light"
     },
     "output_type": "display_data"
    }
   ],
   "source": [
    "# plot \n",
    "plt.plot(var1)\n",
    "plt.hlines(95,0,1300,colors='red',linestyles='dashed')\n",
    "plt.xlabel(\"Principal Components\")\n",
    "plt.ylabel(\"Cumulative Proportion variance explained\")\n"
   ]
  },
  {
   "cell_type": "code",
   "execution_count": 47,
   "metadata": {},
   "outputs": [
    {
     "name": "stdout",
     "output_type": "stream",
     "text": [
      "Number of principal Components\n",
      "341\n"
     ]
    }
   ],
   "source": [
    "# to find principal component which is taken greather than 95 %\n",
    "\n",
    "Num_components = var1<95\n",
    "print(\"Number of principal Components\")\n",
    "print(Num_components.sum())"
   ]
  },
  {
   "cell_type": "code",
   "execution_count": 49,
   "metadata": {},
   "outputs": [
    {
     "data": {
      "text/plain": [
       "PCA(copy=True, iterated_power='auto', n_components=341, random_state=None,\n",
       "    svd_solver='auto', tol=0.0, whiten=False)"
      ]
     },
     "execution_count": 49,
     "metadata": {},
     "output_type": "execute_result"
    }
   ],
   "source": [
    "# Now PCA is initialized with n_components 341\n",
    "pca = PCA(n_components=341)\n",
    "pca.fit(X)"
   ]
  },
  {
   "cell_type": "code",
   "execution_count": 50,
   "metadata": {},
   "outputs": [],
   "source": [
    "X1 = pca.fit_transform(X)"
   ]
  },
  {
   "cell_type": "code",
   "execution_count": 51,
   "metadata": {},
   "outputs": [
    {
     "name": "stdout",
     "output_type": "stream",
     "text": [
      "[[ 1.16005775e+00  2.52959513e+00 -6.41392427e+00 ... -5.81621458e-01\n",
      "   2.01313688e+00  1.65929542e-01]\n",
      " [-7.85964146e+00  1.00945465e+00 -6.14710050e+00 ...  1.33427661e+00\n",
      "   1.02019052e+00 -1.41112652e+00]\n",
      " [-8.79525440e+00 -3.12520839e-01  3.73609789e+00 ... -1.17494306e-01\n",
      "   5.32808186e-04  4.24386591e-01]\n",
      " ...\n",
      " [-1.17398264e+01 -1.33053943e+00 -1.06758778e+00 ...  1.64998431e-01\n",
      "  -4.42814062e-01  3.94816214e-01]\n",
      " [ 2.95139954e+01  9.46341189e+00  7.73313460e+00 ...  1.30632689e+00\n",
      "   1.37549696e+00 -4.03652392e-01]\n",
      " [ 7.67104269e+00 -1.06092248e+01  6.04558261e+00 ... -1.08888801e+00\n",
      "  -9.32709316e-02  7.02290719e-01]]\n"
     ]
    }
   ],
   "source": [
    "print(X1)"
   ]
  },
  {
   "cell_type": "code",
   "execution_count": 53,
   "metadata": {},
   "outputs": [
    {
     "data": {
      "text/plain": [
       "(28931, 341)"
      ]
     },
     "execution_count": 53,
     "metadata": {},
     "output_type": "execute_result"
    }
   ],
   "source": [
    "X1.shape"
   ]
  },
  {
   "cell_type": "code",
   "execution_count": null,
   "metadata": {},
   "outputs": [],
   "source": []
  }
 ],
 "metadata": {
  "kernelspec": {
   "display_name": "Python 3",
   "language": "python",
   "name": "python3"
  },
  "language_info": {
   "codemirror_mode": {
    "name": "ipython",
    "version": 3
   },
   "file_extension": ".py",
   "mimetype": "text/x-python",
   "name": "python",
   "nbconvert_exporter": "python",
   "pygments_lexer": "ipython3",
   "version": "3.7.4"
  }
 },
 "nbformat": 4,
 "nbformat_minor": 4
}
